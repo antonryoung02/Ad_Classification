{
 "cells": [
  {
   "cell_type": "code",
   "execution_count": null,
   "metadata": {},
   "outputs": [],
   "source": [
    "from PIL import Image\n",
    "\n",
    "# Create a grayscale image\n",
    "path = \"tests/test_images/screenshot_20231221_181028.png\"\n",
    "image = Image.open(path)\n",
    "# Convert a grayscale image to RGB\n",
    "rgb_image = image.convert(\"RGB\")\n",
    "gray_image = image.convert(\"L\")\n",
    "rgba_image = rgb_image.convert(\"RGBA\")\n",
    "\n",
    "# Save images\n",
    "gray_image.save(\"gray_image.png\")\n",
    "rgb_image.save(\"rgb_image.png\")\n",
    "rgba_image.save(\"rgba_image.png\")"
   ]
  }
 ],
 "metadata": {
  "language_info": {
   "name": "python"
  }
 },
 "nbformat": 4,
 "nbformat_minor": 2
}
