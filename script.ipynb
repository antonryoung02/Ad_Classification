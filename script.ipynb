{
 "cells": [
  {
   "cell_type": "code",
   "execution_count": 3,
   "metadata": {},
   "outputs": [],
   "source": [
    "from PIL import Image\n",
    "\n",
    "# Create a grayscale image\n",
    "path = \"tests/test_input/screenshot_20231221_181028.png\"\n",
    "image = Image.open(path)\n",
    "# Convert a grayscale image to RGB\n",
    "rgb_image = image.convert(\"RGB\")\n",
    "gray_image = image.convert(\"L\")\n",
    "rgba_image = rgb_image.convert(\"RGBA\")\n",
    "\n",
    "small_image = image.resize((20,20))\n",
    "large_image = image.resize((5000,5000))\n",
    "uneven_dim_image = image.resize((100,1000))\n",
    "\n",
    "# Save images\n",
    "#gray_image.save(\"tests/test_input/gray_image.png\")\n",
    "#rgb_image.save(\"tests/test_input/rgb_image.png\")\n",
    "#rgba_image.save(\"tests/test_input/rgba_image.png\")\n",
    "small_image.save(\"tests/test_input/small_image.png\")\n",
    "large_image.save(\"tests/test_input/large_image.png\")\n",
    "uneven_dim_image.save(\"uneven_dim_image.png\")"
   ]
  },
  {
   "cell_type": "code",
   "execution_count": 1,
   "metadata": {},
   "outputs": [
    {
     "name": "stdout",
     "output_type": "stream",
     "text": [
      "Num processed examples:  8575 ,  2771\n",
      "Total examples:  2224 ,  730\n"
     ]
    }
   ],
   "source": [
    "import os\n",
    "\n",
    "neg_examples = len(os.listdir(\"./modeling/data/data_neg\"))\n",
    "pos_examples = len(os.listdir(\"./modeling/data/data_pos\"))\n",
    "print(\"Num processed examples: \", neg_examples, \", \", pos_examples)\n",
    "neg_examples = len(os.listdir(\"./raw_data/mac_data_neg\")) + len(os.listdir(\"./raw_data/pi_data_neg\"))\n",
    "pos_examples = len(os.listdir(\"./raw_data/mac_data_pos\")) + len(os.listdir(\"./raw_data/pi_data_pos\"))\n",
    "print(\"Total examples: \", neg_examples, \", \", pos_examples)\n"
   ]
  },
  {
   "cell_type": "code",
   "execution_count": 1,
   "metadata": {},
   "outputs": [
    {
     "name": "stdout",
     "output_type": "stream",
     "text": [
      "torch.Size([409600])\n"
     ]
    }
   ],
   "source": [
    "from modeling.utils import find_fc_layer_input_shape\n",
    "from modeling.models import SimpleCNN\n",
    "model = SimpleCNN()\n",
    "print(find_fc_layer_input_shape(model, input_shape=(3,320,320)))"
   ]
  },
  {
   "cell_type": "code",
   "execution_count": 2,
   "metadata": {},
   "outputs": [
    {
     "ename": "ModuleNotFoundError",
     "evalue": "No module named 'torch'",
     "output_type": "error",
     "traceback": [
      "\u001b[0;31m---------------------------------------------------------------------------\u001b[0m",
      "\u001b[0;31mModuleNotFoundError\u001b[0m                       Traceback (most recent call last)",
      "Cell \u001b[0;32mIn[2], line 1\u001b[0m\n\u001b[0;32m----> 1\u001b[0m \u001b[38;5;28;01mfrom\u001b[39;00m \u001b[38;5;21;01mmodeling\u001b[39;00m\u001b[38;5;21;01m.\u001b[39;00m\u001b[38;5;21;01mmodels\u001b[39;00m \u001b[38;5;28;01mimport\u001b[39;00m DeepCNN\n\u001b[1;32m      2\u001b[0m model \u001b[38;5;241m=\u001b[39m SimpleCNN()\n\u001b[1;32m      3\u001b[0m \u001b[38;5;28mprint\u001b[39m(model\u001b[38;5;241m.\u001b[39mfind_fc_layer_input_shape())\n",
      "File \u001b[0;32m~/Downloads/Coding/Ad_Classification/modeling/models.py:1\u001b[0m\n\u001b[0;32m----> 1\u001b[0m \u001b[38;5;28;01mimport\u001b[39;00m \u001b[38;5;21;01mtorch\u001b[39;00m\u001b[38;5;21;01m.\u001b[39;00m\u001b[38;5;21;01mnn\u001b[39;00m \u001b[38;5;28;01mas\u001b[39;00m \u001b[38;5;21;01mnn\u001b[39;00m\n\u001b[1;32m      2\u001b[0m \u001b[38;5;28;01mimport\u001b[39;00m \u001b[38;5;21;01mtorch\u001b[39;00m\n\u001b[1;32m      4\u001b[0m \u001b[38;5;28;01mclass\u001b[39;00m \u001b[38;5;21;01mDeepCNN\u001b[39;00m(nn\u001b[38;5;241m.\u001b[39mModule):\n",
      "\u001b[0;31mModuleNotFoundError\u001b[0m: No module named 'torch'"
     ]
    }
   ],
   "source": [
    "from modeling.models import DeepCNN\n",
    "model = SimpleCNN()\n",
    "print(model.find_fc_layer_input_shape())"
   ]
  }
 ],
 "metadata": {
  "kernelspec": {
   "display_name": "ad-classification-ATcn38Yo-py3.9",
   "language": "python",
   "name": "python3"
  },
  "language_info": {
   "codemirror_mode": {
    "name": "ipython",
    "version": 3
   },
   "file_extension": ".py",
   "mimetype": "text/x-python",
   "name": "python",
   "nbconvert_exporter": "python",
   "pygments_lexer": "ipython3",
   "version": "3.11.5"
  }
 },
 "nbformat": 4,
 "nbformat_minor": 2
}
